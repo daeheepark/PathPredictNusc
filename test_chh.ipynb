{
 "metadata": {
  "language_info": {
   "codemirror_mode": {
    "name": "ipython",
    "version": 3
   },
   "file_extension": ".py",
   "mimetype": "text/x-python",
   "name": "python",
   "nbconvert_exporter": "python",
   "pygments_lexer": "ipython3",
   "version": "3.6.10-final"
  },
  "orig_nbformat": 2,
  "kernelspec": {
   "name": "python361064bitdatfconda262b7d653e7249edb1e828c13130529d",
   "display_name": "Python 3.6.10 64-bit ('datf': conda)"
  }
 },
 "nbformat": 4,
 "nbformat_minor": 2,
 "cells": [
  {
   "cell_type": "code",
   "execution_count": 1,
   "metadata": {},
   "outputs": [],
   "source": [
    "import cv2\n",
    "import pickle as pkl\n",
    "import numpy as np\n",
    "from PIL import Image\n",
    "import copy\n",
    "\n",
    "import torch\n"
   ]
  },
  {
   "source": [
    "## Load GT Trajectory, Past Trajectory, Drivable area"
   ],
   "cell_type": "markdown",
   "metadata": {}
  },
  {
   "cell_type": "code",
   "execution_count": 3,
   "metadata": {},
   "outputs": [],
   "source": [
    "traj = './data_chh/train_val/traj/0c49e9b29d9c40ac8e30f5afc6d9a7aa_ea71ae526c1545119137f30ad997fbb3.traj'\n",
    "\n",
    "road = traj.split('traj/')\n",
    "road_ = road[-1].split('.')[0]\n",
    "road = road[0] + 'road/' + road_ + '.jpg'\n",
    "\n",
    "past = traj.split('traj/')\n",
    "past_ = past[-1].split('.')[0]\n",
    "past = past[0] + 'past/' + past_ + '.traj'\n",
    "\n",
    "traj_ = torch.load(traj)\n",
    "past_ = torch.load(past)\n",
    "road_ = cv2.imread(road, cv2.IMREAD_COLOR)\n"
   ]
  },
  {
   "source": [
    "## Visualize loaded data"
   ],
   "cell_type": "markdown",
   "metadata": {}
  },
  {
   "cell_type": "code",
   "execution_count": 4,
   "metadata": {},
   "outputs": [],
   "source": [
    "TRAJ_COLORS = [(0,255,255), (255,128,0), (255,0,255), (0,0,255)]\n",
    "\n",
    "def visualize(img_ : np.ndarray, num_modes = 1, prediction = None, gt = None, past = None, traj_slice : tuple((int, int)) = None) :\n",
    "    x, y = 400, 250\n",
    "    img = copy.copy(img_)\n",
    "\n",
    "    if gt is not None:\n",
    "        for gt_ in gt:\n",
    "            x_cv, y_cv = int(y+gt_[0].item()*10), int(x-gt_[1].item()*10)\n",
    "            cv2.drawMarker(img, (x_cv, y_cv), (0,255,0), cv2.MARKER_DIAMOND, 2, 2)\n",
    "\n",
    "        size, _ = cv2.getTextSize('GT', cv2.FONT_HERSHEY_SIMPLEX, 0.5, 1)\n",
    "        sx, sy = size\n",
    "        cv2.rectangle(img, (x_cv,y_cv-sy-6), (x_cv+sx+6,y_cv), (255,255,255), -1)\n",
    "        cv2.putText(img, 'GT', (x_cv+3,y_cv-3), cv2.FONT_HERSHEY_SIMPLEX, 0.5, (0,0,0), 1)\n",
    "\n",
    "    if past is not None:\n",
    "        for past_ in past:\n",
    "            x_cv, y_cv = int(y+past_[0].item()*10), int(x-past_[1].item()*10)\n",
    "            cv2.drawMarker(img, (x_cv, y_cv), (255,0,0), cv2.MARKER_DIAMOND, 2,2)\n",
    "\n",
    "    if prediction is not None:\n",
    "        trajs, probs = prediction[:-num_modes], prediction[-num_modes:]\n",
    "        trajs, probs = np.array_split(trajs.numpy(), num_modes, axis=0), np.array_split(probs.numpy(), num_modes, axis=0) \n",
    "    \n",
    "        if traj_slice is not None:\n",
    "            trajs, probs = trajs[traj_slice[0]: traj_slice[1]], probs[traj_slice[0]: traj_slice[1]] \n",
    "\n",
    "        for i, (traj, prob) in enumerate(zip(trajs, probs)):\n",
    "            traj_x, traj_y = traj[0::2], traj[1::2]\n",
    "            prob_ = prob[0]\n",
    "            prev_x, prev_y = y, x\n",
    "            for traj_x_, traj_y_ in zip(traj_x, traj_y):\n",
    "                x_cv, y_cv = int(y+traj_x_*10), int(x-traj_y_*10)\n",
    "                cv2.drawMarker(img, (x_cv, y_cv), TRAJ_COLORS[i], cv2.MARKER_CROSS, 6, 3, cv2.FILLED)\n",
    "                cv2.arrowedLine(img, (prev_x, prev_y), (x_cv, y_cv), TRAJ_COLORS[i], 1, cv2.LINE_AA, tipLength=0.1)\n",
    "                prev_x, prev_y = x_cv, y_cv\n",
    "\n",
    "            prob_ = f'{prob[0]:.2f}'\n",
    "            size, _ = cv2.getTextSize(prob_, cv2.FONT_HERSHEY_SIMPLEX, 0.5, 1)\n",
    "            sx, sy = size\n",
    "            cv2.rectangle(img, (x_cv,y_cv-sy-6), (x_cv+sx+6,y_cv), (255,255,255), -1)\n",
    "            cv2.putText(img, prob_, (x_cv+3,y_cv-3), cv2.FONT_HERSHEY_SIMPLEX, 0.5, (0,0,0), 1)\n",
    "    \n",
    "    return img"
   ]
  },
  {
   "source": [
    "## Generate Pseudo-GT for fake prediction (1 mode, colored in Cyan)"
   ],
   "cell_type": "markdown",
   "metadata": {}
  },
  {
   "cell_type": "code",
   "execution_count": 5,
   "metadata": {},
   "outputs": [
    {
     "output_type": "execute_result",
     "data": {
      "text/plain": [
       "<PIL.Image.Image image mode=RGB size=500x500 at 0x7F38FD315B00>"
      ],
      "image/png": "[encoded data removed]"
     },
     "metadata": {},
     "execution_count": 5
    }
   ],
   "source": [
    "ps_gt = torch.tensor(list(range(len(traj_)))).unsqueeze(1)\n",
    "ps_gt = torch.cat((ps_gt,ps_gt), axis=1)\n",
    "ps_gt = traj_ + ps_gt\n",
    "ps_gt_ = ps_gt.reshape((1,-1)).squeeze(0)\n",
    "ps_gt_ = torch.cat((ps_gt_, torch.tensor([1.])), axis=0)\n",
    "\n",
    "img1 = visualize(road_, prediction=ps_gt_, past=past_, gt=traj_)\n",
    "\n",
    "ps_gt[-2:]\n",
    "# traj_+ ps_gt\n",
    "# psgt = traj_ + torch.tensor(np.arange(len(traj_)))\n",
    "Image.fromarray(img1)"
   ]
  },
  {
   "cell_type": "code",
   "execution_count": 6,
   "metadata": {},
   "outputs": [
    {
     "output_type": "stream",
     "name": "stdout",
     "text": [
      "tensor([ 7.0111, 10.1452])\n[320, 298]\n"
     ]
    },
    {
     "output_type": "execute_result",
     "data": {
      "text/plain": [
       "array([254, 254, 254], dtype=uint8)"
      ]
     },
     "metadata": {},
     "execution_count": 6
    }
   ],
   "source": [
    "img2 = copy.copy(road_)\n",
    "def world2pix(xy_w):\n",
    "    x, y = 400,250\n",
    "    x_p, y_p = int(y+xy_w[0].item()*10), int(x-xy_w[1].item()*10)\n",
    "    return [x_p, y_p]\n",
    "\n",
    "print(ps_gt[-5])\n",
    "xy_p = world2pix(ps_gt[-5])\n",
    "print(xy_p)\n",
    "\n",
    "img2[xy_p[1], xy_p[0]]"
   ]
  },
  {
   "source": [
    "## Define DAC metric and test with pseudo-gt"
   ],
   "cell_type": "markdown",
   "metadata": {}
  },
  {
   "cell_type": "code",
   "execution_count": 7,
   "metadata": {},
   "outputs": [
    {
     "output_type": "stream",
     "name": "stdout",
     "text": [
      "dac : 0.667\n"
     ]
    }
   ],
   "source": [
    "def dac_metric(map, prediction, num_modes = 1):\n",
    "\n",
    "    gen_trajs = prediction\n",
    "    gen_trajs = gen_trajs[:-num_modes]\n",
    "    gen_trajs = gen_trajs.reshape((-1,2))\n",
    "    map_array = copy.copy(map)\n",
    "\n",
    "    da_mask = np.any(map_array > 0, axis=-1)\n",
    "    decoding_timesteps = gen_trajs.shape[0]\n",
    "\n",
    "    stay_in_da = [True for i in range(decoding_timesteps)]\n",
    "\n",
    "    trajs = []\n",
    "    for i, traj in enumerate(gen_trajs):\n",
    "        trajs.append(world2pix(traj))\n",
    "    trajs = np.array(trajs)\n",
    "\n",
    "    oom_mask = np.any( np.logical_or(trajs >= 500, trajs < 0), axis=-1 )\n",
    "\n",
    "    for t in range(decoding_timesteps):\n",
    "        gen_trajs_t = trajs[t]\n",
    "        oom_mask_t = oom_mask[t]\n",
    "        x, y = gen_trajs_t\n",
    "\n",
    "        if oom_mask_t:\n",
    "            continue\n",
    "\n",
    "        if not da_mask[y, x]:\n",
    "            stay_in_da[t] = False\n",
    "\n",
    "    dac_ = np.array(stay_in_da).sum() / decoding_timesteps\n",
    "    return dac_\n",
    "\n",
    "dac = dac_metric(road_, ps_gt_)\n",
    "print(f'dac : {dac:.3f}')"
   ]
  },
  {
   "source": [
    "## DAO 는 multiode path 를 생성하지 않으면 비교하는 의미가 없으므로 추가하지 않음"
   ],
   "cell_type": "markdown",
   "metadata": {}
  },
  {
   "cell_type": "code",
   "execution_count": 17,
   "metadata": {},
   "outputs": [
    {
     "output_type": "execute_result",
     "data": {
      "text/plain": [
       "numpy.ndarray"
      ]
     },
     "metadata": {},
     "execution_count": 17
    }
   ],
   "source": [
    "type(road_)"
   ]
  }
 ]
}